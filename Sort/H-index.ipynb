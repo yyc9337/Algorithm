{
 "cells": [
  {
   "cell_type": "markdown",
   "metadata": {},
   "source": [
    "#### 문제 설명\n",
    "H-Index는 과학자의 생산성과 영향력을 나타내는 지표입니다. 어느 과학자의 H-Index를 나타내는 값인 h를 구하려고 합니다. 위키백과1에 따르면, H-Index는 다음과 같이 구합니다.\n",
    "\n",
    "어떤 과학자가 발표한 논문 n편 중, h번 이상 인용된 논문이 h편 이상이고 나머지 논문이 h번 이하 인용되었다면 h의 최댓값이 이 과학자의 H-Index입니다.\n",
    "\n",
    "어떤 과학자가 발표한 논문의 인용 횟수를 담은 배열 citations가 매개변수로 주어질 때, 이 과학자의 H-Index를 return 하도록 solution 함수를 작성해주세요.\n",
    "##### 제한사항\n",
    "과학자가 발표한 논문의 수는 1편 이상 1,000편 이하입니다.\n",
    "논문별 인용 횟수는 0회 이상 10,000회 이하입니다.\n",
    "##### 입출력 예\n",
    "###### citations = [3, 0, 6, 1, 5]\t\n",
    "###### return = 3\n",
    "##### 입출력 예 설명\n",
    "이 과학자가 발표한 논문의 수는 5편이고, 그중 3편의 논문은 3회 이상 인용되었습니다. 그리고 나머지 2편의 논문은 3회 이하 인용되었기 때문에 이 과학자의 H-Index는 3입니다."
   ]
  },
  {
   "cell_type": "code",
   "execution_count": 266,
   "metadata": {},
   "outputs": [],
   "source": [
    "citations = [3, 0, 6, 1, 5]"
   ]
  },
  {
   "cell_type": "code",
   "execution_count": 418,
   "metadata": {},
   "outputs": [
    {
     "data": {
      "text/plain": [
       "3"
      ]
     },
     "execution_count": 418,
     "metadata": {},
     "output_type": "execute_result"
    }
   ],
   "source": [
    "def solution(citations):\n",
    "    citations.sort(reverse=True)\n",
    "    if citations[0] == 0 :\n",
    "        h = 0\n",
    "    else :\n",
    "        for i in range(0, len(citations)) :\n",
    "            if i+1 <= citations[i] :\n",
    "                h = i+1\n",
    "                h\n",
    "\n",
    "    return h\n",
    "\n",
    "solution(citations)\n"
   ]
  }
 ],
 "metadata": {
  "interpreter": {
   "hash": "40491703f7e3745db3ce67d00e0fd6bf66b5c9e5dc3c07d110e0729837b90781"
  },
  "kernelspec": {
   "display_name": "yyc",
   "language": "python",
   "name": "python3"
  },
  "language_info": {
   "codemirror_mode": {
    "name": "ipython",
    "version": 3
   },
   "file_extension": ".py",
   "mimetype": "text/x-python",
   "name": "python",
   "nbconvert_exporter": "python",
   "pygments_lexer": "ipython3",
   "version": "3.7.6"
  },
  "orig_nbformat": 4
 },
 "nbformat": 4,
 "nbformat_minor": 2
}
