{
 "cells": [
  {
   "cell_type": "markdown",
   "metadata": {},
   "source": [
    "##### 문제 설명\n",
    "    수많은 마라톤 선수들이 마라톤에 참여하였습니다. 단 한 명의 선수를 제외하고는 모든 선수가 마라톤을 완주하였습니다.\n",
    "\n",
    "    마라톤에 참여한 선수들의 이름이 담긴 배열 participant와 완주한 선수들의 이름이 담긴 배열 completion이 주어질 때, 완주하지 못한 선수의 이름을 return 하도록 solution 함수를 작성해주세요.\n",
    "##### 제한사항\n",
    "    마라톤 경기에 참여한 선수의 수는 1명 이상 100,000명 이하입니다.\n",
    "    completion의 길이는 participant의 길이보다 1 작습니다.\n",
    "    참가자의 이름은 1개 이상 20개 이하의 알파벳 소문자로 이루어져 있습니다.\n",
    "    참가자 중에는 동명이인이 있을 수 있습니다.\n",
    "##### 입출력 예\n",
    "<img src = \"img/완주하지 못한 선수.JPG\">"
   ]
  },
  {
   "cell_type": "code",
   "execution_count": null,
   "metadata": {},
   "outputs": [],
   "source": [
    "participant = [\"leo\", \"kiki\", \"eden\"]\n",
    "completion = [\"eden\", \"kiki\"]"
   ]
  },
  {
   "cell_type": "code",
   "execution_count": null,
   "metadata": {},
   "outputs": [],
   "source": [
    "def solution(participant, completion):\n",
    "    participant.sort()\n",
    "    completion.sort()\n",
    "    for i in range(len(completion)) :\n",
    "        if participant[i] != completion[i] :\n",
    "            return participant[i]\n",
    "\n",
    "    return participant[-1]"
   ]
  },
  {
   "cell_type": "markdown",
   "metadata": {},
   "source": []
  }
 ],
 "metadata": {
  "interpreter": {
   "hash": "40491703f7e3745db3ce67d00e0fd6bf66b5c9e5dc3c07d110e0729837b90781"
  },
  "kernelspec": {
   "display_name": "Python 3.7.6 ('yyc')",
   "language": "python",
   "name": "python3"
  },
  "language_info": {
   "name": "python",
   "version": "3.7.6"
  },
  "orig_nbformat": 4
 },
 "nbformat": 4,
 "nbformat_minor": 2
}
