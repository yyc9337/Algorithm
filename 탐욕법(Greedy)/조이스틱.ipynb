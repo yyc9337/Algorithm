{
 "cells": [
  {
   "cell_type": "markdown",
   "metadata": {},
   "source": [
    "    조이스틱으로 알파벳 이름을 완성하세요. 맨 처음엔 A로만 이루어져 있습니다.\n",
    "    ex) 완성해야 하는 이름이 세 글자면 AAA, 네 글자면 AAAA\n",
    "\n",
    "    조이스틱을 각 방향으로 움직이면 아래와 같습니다.\n",
    "\n",
    "<img src=\"입출력 예시 img/조이스틱.png\"></img>\n",
    "\n",
    "    만들고자 하는 이름 name이 매개변수로 주어질 때, 이름에 대해 조이스틱 조작 횟수의 최솟값을 return 하도록 solution 함수를 만드세요.\n",
    "\n",
    "<img src=\"입출력 예시 img/조이스틱2.png\"></img>    "
   ]
  },
  {
   "cell_type": "code",
   "execution_count": 3,
   "metadata": {},
   "outputs": [],
   "source": [
    "import pandas as pd\n",
    "\n",
    "\n",
    "\n",
    "spelling = pd.DataFrame({'A' : [0], 'B' : [1], 'C' : [2], 'D' : [3], 'E' : [4], 'F' : [5],\n",
    "'G' : [6], 'H' : [7], 'I' : [8], 'J' : [9], 'K' : [10], 'L' : [11], 'M' : [12],\n",
    "'N' : [13], 'O' : [12], 'P' : [11], 'Q' : [10], 'R' : [9], 'S' : [8], 'T' : [7],\n",
    "'U' : [6], 'V' : [5], 'W' : [4], 'X' : [3], 'Y' : [2], 'Z' : [1]}) \n",
    "\n",
    "\n",
    "\n"
   ]
  },
  {
   "cell_type": "code",
   "execution_count": 42,
   "metadata": {},
   "outputs": [
    {
     "name": "stdout",
     "output_type": "stream",
     "text": [
      "57\n"
     ]
    }
   ],
   "source": [
    "#name = \"JEROEN\"\n",
    "name = \"JEROEN\" # 22\n",
    "\n",
    "\n",
    "answer = 0\n",
    "for i in range(len(name)) :\n",
    "    if name[i:i+1] != 'A':\n",
    "        for z in range(len(spelling.columns)) :\n",
    "            if name[i:i+1] == spelling.columns[z]:\n",
    "                answer += spelling.iloc[0][z]\n",
    "                if name[z:z+1] != 'A':\n",
    "                    answer = (answer + 1)\n",
    "                elif z == len(spelling.columns) - 1 :\n",
    "                    print(answer -1)\n",
    "    \n",
    "print(answer)  \n",
    "\n",
    "                \n",
    "                  \n"
   ]
  },
  {
   "cell_type": "code",
   "execution_count": null,
   "metadata": {},
   "outputs": [],
   "source": []
  }
 ],
 "metadata": {
  "interpreter": {
   "hash": "9b18e521a012b0c862b0721717fa008bae0621ef4f388f6ffe88f50b8be01ef6"
  },
  "kernelspec": {
   "display_name": "yyc",
   "language": "python",
   "name": "yyc"
  },
  "language_info": {
   "codemirror_mode": {
    "name": "ipython",
    "version": 3
   },
   "file_extension": ".py",
   "mimetype": "text/x-python",
   "name": "python",
   "nbconvert_exporter": "python",
   "pygments_lexer": "ipython3",
   "version": "3.7.6"
  },
  "orig_nbformat": 4
 },
 "nbformat": 4,
 "nbformat_minor": 2
}
