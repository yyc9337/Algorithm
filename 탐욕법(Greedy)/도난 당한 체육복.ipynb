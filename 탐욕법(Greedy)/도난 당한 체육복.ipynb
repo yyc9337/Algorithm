{
 "cells": [
  {
   "cell_type": "markdown",
   "metadata": {},
   "source": [
    " #### 문제 설명\n",
    "    점심시간에 도둑이 들어, 일부 학생이 체육복을 도난당했습니다. 다행히 여벌 체육복이 있는 학생이 이들에게 체육복을 빌려주려 합니다.\n",
    "    학생들의 번호는 체격 순으로 매겨져 있어, 바로 앞번호의 \n",
    "    학생이나 바로 뒷번호의 학생에게만 체육복을 빌려줄 수 있습니다. \n",
    "    예를 들어, 4번 학생은 3번 학생이나 5번 학생에게만 체육복을 빌려줄 수 있습니다. \n",
    "    체육복이 없으면 수업을 들을 수 없기 때문에 체육복을 적절히 빌려 최대한 \n",
    "    많은 학생이 체육수업을 들어야 합니다.전체 학생의 수 n, 체육복을 도난당한 \n",
    "    학생들의 번호가 담긴 배열 lost, 여벌의 체육복을 가져온 학생들의 번호가 담긴 배열 \n",
    "    reserve가 매개변수로 주어질 때, 체육수업을 들을 수 있는 학생의 최댓값을 return 하도록 solution 함수를 작성해주세요.\n",
    "\n",
    "<img src=\"입출력 예시 img/화면 캡처 2022-03-16 152907.png\"></img>\n",
    "\n",
    "\n",
    "    예제 #1\n",
    "    1번 학생이 2번 학생에게 체육복을 빌려주고, 3번 학생이나 5번 학생이 4번 학생에게 체육복을 빌려주면 학생 5명이 체육수업을 들을 수 있습니다.\n",
    "\n",
    "    예제 #2\n",
    "    3번 학생이 2번 학생이나 4번 학생에게 체육복을 빌려주면 학생 4명이 체육수업을 들을 수 있습니다.\n"
   ]
  },
  {
   "cell_type": "code",
   "execution_count": 139,
   "metadata": {},
   "outputs": [],
   "source": [
    "n = 5\n",
    "lost = [2, 4]\n",
    "reserve = [1, 3, 5]"
   ]
  },
  {
   "cell_type": "code",
   "execution_count": 140,
   "metadata": {},
   "outputs": [
    {
     "data": {
      "text/plain": [
       "5"
      ]
     },
     "execution_count": 140,
     "metadata": {},
     "output_type": "execute_result"
    }
   ],
   "source": [
    "def solution(n, lost, reserve):\n",
    "    list_a = []\n",
    "    lost_list = list(set(lost) - set(reserve))\n",
    "    reserve_list = list(set(reserve) - set(lost))\n",
    "    for i in range(len(lost_list)) :\n",
    "        for z in range(len(reserve_list)) :\n",
    "            if lost_list[i] - reserve_list[z] == 1 or lost_list[i] - reserve_list[z] == -1  or lost_list[i] - reserve_list[z] == 0 :\n",
    "                list_a.append(reserve_list[z])\n",
    "    my_set = set(list_a) #집합set으로 변환\n",
    "    list_a = list(my_set) #list로 변환\n",
    "    answer = n - len(lost_list) + len(list_a)\n",
    "    if answer >= n :\n",
    "        answer = n\n",
    "    elif answer < n : \n",
    "        answer\n",
    "    else :\n",
    "        answer \n",
    "    return answer\n",
    "\n",
    "solution(n, lost, reserve)"
   ]
  },
  {
   "cell_type": "code",
   "execution_count": null,
   "metadata": {},
   "outputs": [],
   "source": []
  }
 ],
 "metadata": {
  "interpreter": {
   "hash": "40491703f7e3745db3ce67d00e0fd6bf66b5c9e5dc3c07d110e0729837b90781"
  },
  "kernelspec": {
   "display_name": "Python 3.7.6 ('yyc')",
   "language": "python",
   "name": "python3"
  },
  "language_info": {
   "codemirror_mode": {
    "name": "ipython",
    "version": 3
   },
   "file_extension": ".py",
   "mimetype": "text/x-python",
   "name": "python",
   "nbconvert_exporter": "python",
   "pygments_lexer": "ipython3",
   "version": "3.7.6"
  },
  "orig_nbformat": 4
 },
 "nbformat": 4,
 "nbformat_minor": 2
}
