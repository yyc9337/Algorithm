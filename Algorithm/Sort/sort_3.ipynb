{
 "cells": [
  {
   "cell_type": "code",
   "execution_count": 266,
   "metadata": {},
   "outputs": [],
   "source": [
    "citations = [3, 0, 6, 1, 5]"
   ]
  },
  {
   "cell_type": "code",
   "execution_count": 418,
   "metadata": {},
   "outputs": [
    {
     "data": {
      "text/plain": [
       "3"
      ]
     },
     "execution_count": 418,
     "metadata": {},
     "output_type": "execute_result"
    }
   ],
   "source": [
    "def solution(citations):\n",
    "    citations.sort(reverse=True)\n",
    "    if citations[0] == 0 :\n",
    "        h = 0\n",
    "    else :\n",
    "        for i in range(0, len(citations)) :\n",
    "            if i+1 <= citations[i] :\n",
    "                h = i+1\n",
    "                h\n",
    "\n",
    "    return h\n",
    "\n",
    "solution(citations)\n"
   ]
  },
  {
   "cell_type": "code",
   "execution_count": 333,
   "metadata": {},
   "outputs": [
    {
     "data": {
      "text/plain": [
       "3"
      ]
     },
     "execution_count": 333,
     "metadata": {},
     "output_type": "execute_result"
    }
   ],
   "source": [
    "if (range(len(citations))[0]+1 >= citations[0]) :\n",
    "    h = range(len(citations))[0]+1\n",
    "h\n"
   ]
  }
 ],
 "metadata": {
  "kernelspec": {
   "display_name": "yyc",
   "language": "python",
   "name": "yyc"
  },
  "language_info": {
   "codemirror_mode": {
    "name": "ipython",
    "version": 3
   },
   "file_extension": ".py",
   "mimetype": "text/x-python",
   "name": "python",
   "nbconvert_exporter": "python",
   "pygments_lexer": "ipython3",
   "version": "3.7.6"
  },
  "orig_nbformat": 4
 },
 "nbformat": 4,
 "nbformat_minor": 2
}
